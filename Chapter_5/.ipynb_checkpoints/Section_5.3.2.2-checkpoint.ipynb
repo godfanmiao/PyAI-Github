{
 "cells": [
  {
   "cell_type": "code",
   "execution_count": 1,
   "id": "ea2c9e53",
   "metadata": {},
   "outputs": [],
   "source": [
    "##################################################################\n",
    "#           《Python人工智能编程实践（2024年度版）》开源代码\n",
    "#-----------------------------------------------------------------\n",
    "#            @章节号：5.3.2.2（随机梯度下降回归器）                                   \n",
    "#            @作者：范淼、徐晟桐 \n",
    "#            @购书链接：暂无\n",
    "#            @电子邮箱：fm12@tsinghua.org.cn             \n",
    "#            @官方交流QQ群号：561500762                        \n",
    "##################################################################"
   ]
  },
  {
   "cell_type": "code",
   "execution_count": 2,
   "id": "eb2eb421",
   "metadata": {},
   "outputs": [],
   "source": [
    "import pandas as pd\n",
    "\n",
    "\n",
    "#使用pandas，读取数据文件。\n",
    "data = pd.read_csv('./datasets/white_wine/white_wine_quality.csv', sep=';')\n",
    "\n",
    "#从数据中拆分出特征与目标值。\n",
    "X = data[data.columns[:-1]]\n",
    "y = data[data.columns[-1]]"
   ]
  },
  {
   "cell_type": "code",
   "execution_count": 3,
   "id": "395ae5f6",
   "metadata": {},
   "outputs": [],
   "source": [
    "from sklearn.model_selection import train_test_split\n",
    "\n",
    "\n",
    "#拆分训练集和测试集。\n",
    "X_train, X_test, y_train, y_test = train_test_split(X, y, train_size=0.8, random_state=950823)"
   ]
  },
  {
   "cell_type": "code",
   "execution_count": 4,
   "id": "3dd94e36",
   "metadata": {},
   "outputs": [],
   "source": [
    "from sklearn.preprocessing import StandardScaler\n",
    "\n",
    "\n",
    "#初始化数据标准化处理器。\n",
    "ss = StandardScaler()\n",
    "\n",
    "#标准化训练数据特征。\n",
    "X_train = ss.fit_transform(X_train)\n",
    "\n",
    "#标准化测试数据特征。\n",
    "X_test = ss.transform(X_test)"
   ]
  },
  {
   "cell_type": "code",
   "execution_count": 5,
   "id": "af5f69c9",
   "metadata": {},
   "outputs": [],
   "source": [
    "from sklearn.linear_model import SGDRegressor\n",
    "\n",
    "\n",
    "#初始化随机梯度下降回归器模型。\n",
    "sgdr = SGDRegressor()\n",
    "\n",
    "#使用训练数据，训练随机梯度下降回归器模型。\n",
    "sgdr.fit(X_train, y_train)\n",
    "\n",
    "#使用训练好的回归模型，依据测试数据的特征，进行数值回归。\n",
    "y_predict = sgdr.predict(X_test)"
   ]
  },
  {
   "cell_type": "code",
   "execution_count": 6,
   "id": "eb396973",
   "metadata": {},
   "outputs": [
    {
     "name": "stdout",
     "output_type": "stream",
     "text": [
      "Scikit-learn的随机梯度下降回归器在white_wine测试集上的均方根误差为：0.7200。\n"
     ]
    }
   ],
   "source": [
    "from sklearn.metrics import mean_squared_error\n",
    "\n",
    "\n",
    "#评估回归器的误差。\n",
    "print ('Scikit-learn的随机梯度下降回归器在white_wine测试集上的均方根误差为：%.4f。' %mean_squared_error(y_test, y_predict, squared=False))"
   ]
  }
 ],
 "metadata": {
  "kernelspec": {
   "display_name": "Python 3 (ipykernel)",
   "language": "python",
   "name": "python3"
  },
  "language_info": {
   "codemirror_mode": {
    "name": "ipython",
    "version": 3
   },
   "file_extension": ".py",
   "mimetype": "text/x-python",
   "name": "python",
   "nbconvert_exporter": "python",
   "pygments_lexer": "ipython3",
   "version": "3.11.5"
  }
 },
 "nbformat": 4,
 "nbformat_minor": 5
}
