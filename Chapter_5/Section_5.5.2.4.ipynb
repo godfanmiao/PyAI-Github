{
 "cells": [
  {
   "cell_type": "code",
   "execution_count": 1,
   "id": "6a692759",
   "metadata": {},
   "outputs": [],
   "source": [
    "##################################################################\n",
    "#           《Python人工智能编程实践（2024年度版）》开源代码\n",
    "#-----------------------------------------------------------------\n",
    "#            @章节号：5.5.2.4（特征选择）               \n",
    "#            @作者：范淼、徐晟桐 \n",
    "#            @购书链接：暂无\n",
    "#            @电子邮箱：fm12@tsinghua.org.cn             \n",
    "#            @官方交流QQ群号：561500762                        \n",
    "##################################################################"
   ]
  },
  {
   "cell_type": "code",
   "execution_count": 2,
   "id": "3085f325",
   "metadata": {},
   "outputs": [],
   "source": [
    "from sklearn.datasets import load_digits\n",
    "\n",
    "\n",
    "#获取数据特征与标签。\n",
    "X, y = load_digits(return_X_y=True)"
   ]
  },
  {
   "cell_type": "code",
   "execution_count": 3,
   "id": "279ecb91",
   "metadata": {},
   "outputs": [],
   "source": [
    "from sklearn.model_selection import train_test_split\n",
    "\n",
    "\n",
    "#拆分出训练集与测试集。\n",
    "X_train, X_test, y_train, y_test = train_test_split(X, y, train_size=0.8, random_state=950823)"
   ]
  },
  {
   "cell_type": "code",
   "execution_count": 4,
   "id": "626224cb",
   "metadata": {},
   "outputs": [],
   "source": [
    "from sklearn.tree import DecisionTreeClassifier\n",
    "\n",
    "\n",
    "dtc = DecisionTreeClassifier(random_state=911120)\n",
    "\n",
    "dtc.fit(X_train, y_train)\n",
    "\n",
    "y_predict = dtc.predict(X_test)"
   ]
  },
  {
   "cell_type": "code",
   "execution_count": 5,
   "id": "6c63aa97",
   "metadata": {},
   "outputs": [
    {
     "name": "stdout",
     "output_type": "stream",
     "text": [
      "Scikit-learn的决策树分类器在使用原始特征的digits测试集上的准确率为：85.83%。\n"
     ]
    }
   ],
   "source": [
    "from sklearn.metrics import accuracy_score\n",
    "\n",
    "\n",
    "print ('Scikit-learn的决策树分类器在使用原始特征的digits测试集上的准确率为：%.2f%%。' %(accuracy_score(y_test, y_predict) * 100))"
   ]
  },
  {
   "cell_type": "code",
   "execution_count": 6,
   "id": "edc0e088",
   "metadata": {},
   "outputs": [],
   "source": [
    "from sklearn.feature_selection import SelectKBest, chi2\n",
    "\n",
    "\n",
    "#初始化特征选择器。\n",
    "f_select = SelectKBest(chi2, k=30)\n",
    "\n",
    "#采用有标签监督的方式选取最佳特征。\n",
    "Xs_train = f_select.fit_transform(X_train, y_train)\n",
    "\n",
    "Xs_test = f_select.transform(X_test)"
   ]
  },
  {
   "cell_type": "code",
   "execution_count": 7,
   "id": "fcf498da",
   "metadata": {},
   "outputs": [
    {
     "name": "stdout",
     "output_type": "stream",
     "text": [
      "Scikit-learn的决策树分类器在经过特征选择的digits测试集上的准确率为：87.50%。\n"
     ]
    }
   ],
   "source": [
    "dtc = DecisionTreeClassifier(random_state=911120)\n",
    "\n",
    "dtc.fit(Xs_train, y_train)\n",
    "\n",
    "ys_predict = dtc.predict(Xs_test)\n",
    "\n",
    "print ('Scikit-learn的决策树分类器在经过特征选择的digits测试集上的准确率为：%.2f%%。' %(accuracy_score(y_test, ys_predict) * 100))"
   ]
  }
 ],
 "metadata": {
  "kernelspec": {
   "display_name": "Python 3 (ipykernel)",
   "language": "python",
   "name": "python3"
  },
  "language_info": {
   "codemirror_mode": {
    "name": "ipython",
    "version": 3
   },
   "file_extension": ".py",
   "mimetype": "text/x-python",
   "name": "python",
   "nbconvert_exporter": "python",
   "pygments_lexer": "ipython3",
   "version": "3.11.4"
  }
 },
 "nbformat": 4,
 "nbformat_minor": 5
}
