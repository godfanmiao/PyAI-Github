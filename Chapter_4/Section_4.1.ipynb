{
 "cells": [
  {
   "cell_type": "code",
   "execution_count": 1,
   "id": "26133c32",
   "metadata": {},
   "outputs": [],
   "source": [
    "##################################################################\n",
    "#           《Python人工智能编程实践（2024年度版）》开源代码\n",
    "#-----------------------------------------------------------------\n",
    "#            @章节号：4.1（Pandas环境配置）                                \n",
    "#            @作者：范淼、徐晟桐 \n",
    "#            @购书链接：暂无\n",
    "#            @电子邮箱：fm12@tsinghua.org.cn             \n",
    "#            @官方交流QQ群号：561500762                        \n",
    "##################################################################"
   ]
  },
  {
   "cell_type": "code",
   "execution_count": 2,
   "id": "9fa88094",
   "metadata": {},
   "outputs": [],
   "source": [
    "#在终端/命令行提示符中，依次输入如下指令，配置用于运行本章代码的编程环境。\n",
    "\n",
    "#1) 创建虚拟环境python_pandas，并使用Python 3.11解释器：conda create -n python_pandas python=3.11\n",
    "\n",
    "#2) 切换到虚拟环境python_pandas：conda activate python_pandas\n",
    "\n",
    "#3) 在虚拟环境python_pandas中，安装Jupyter Notebook：conda install notebook\n",
    "\n",
    "#4) 在当前虚拟环境python_pandas中，启动Jupyter Notebook：jupyter notebook"
   ]
  },
  {
   "cell_type": "code",
   "execution_count": 3,
   "id": "65daf269",
   "metadata": {},
   "outputs": [
    {
     "name": "stdout",
     "output_type": "stream",
     "text": [
      "Collecting package metadata (current_repodata.json): done\n",
      "Solving environment: done\n",
      "\n",
      "# All requested packages already installed.\n",
      "\n"
     ]
    }
   ],
   "source": [
    "#查验当前虚拟环境是否已经安装了指定版本的Pandas编程库。\n",
    "!conda install pandas==2.0.3"
   ]
  },
  {
   "cell_type": "code",
   "execution_count": 4,
   "id": "6bc11560",
   "metadata": {},
   "outputs": [
    {
     "data": {
      "text/plain": [
       "'2.0.3'"
      ]
     },
     "execution_count": 4,
     "metadata": {},
     "output_type": "execute_result"
    }
   ],
   "source": [
    "import pandas\n",
    "\n",
    "pandas.__version__"
   ]
  },
  {
   "cell_type": "code",
   "execution_count": 5,
   "id": "49ea18c9",
   "metadata": {},
   "outputs": [
    {
     "name": "stdout",
     "output_type": "stream",
     "text": [
      "Collecting package metadata (current_repodata.json): done\n",
      "Solving environment: done\n",
      "\n",
      "# All requested packages already installed.\n",
      "\n"
     ]
    }
   ],
   "source": [
    "#查验当前虚拟环境是否已经安装了openpyxl编程库。\n",
    "!conda install openpyxl==3.0.10"
   ]
  },
  {
   "cell_type": "code",
   "execution_count": 6,
   "id": "3fb7074a",
   "metadata": {},
   "outputs": [
    {
     "data": {
      "text/plain": [
       "'3.0.10'"
      ]
     },
     "execution_count": 6,
     "metadata": {},
     "output_type": "execute_result"
    }
   ],
   "source": [
    "import openpyxl\n",
    "\n",
    "openpyxl.__version__"
   ]
  }
 ],
 "metadata": {
  "kernelspec": {
   "display_name": "Python 3 (ipykernel)",
   "language": "python",
   "name": "python3"
  },
  "language_info": {
   "codemirror_mode": {
    "name": "ipython",
    "version": 3
   },
   "file_extension": ".py",
   "mimetype": "text/x-python",
   "name": "python",
   "nbconvert_exporter": "python",
   "pygments_lexer": "ipython3",
   "version": "3.11.4"
  },
  "vscode": {
   "interpreter": {
    "hash": "31f2aee4e71d21fbe5cf8b01ff0e069b9275f58929596ceb00d14d90e3e16cd6"
   }
  }
 },
 "nbformat": 4,
 "nbformat_minor": 5
}
