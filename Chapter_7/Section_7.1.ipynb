{
 "cells": [
  {
   "cell_type": "code",
   "execution_count": 1,
   "id": "26203890",
   "metadata": {},
   "outputs": [],
   "source": [
    "##################################################################\n",
    "#           《Python人工智能编程实践（2024年度版）》开源代码\n",
    "#-----------------------------------------------------------------\n",
    "#            @章节号：7.1（PySpark环境配置）                         \n",
    "#            @作者：范淼、徐晟桐 \n",
    "#            @购书链接：暂无\n",
    "#            @电子邮箱：fm12@tsinghua.org.cn             \n",
    "#            @官方交流QQ群号：561500762                        \n",
    "##################################################################"
   ]
  },
  {
   "cell_type": "code",
   "execution_count": 2,
   "id": "8f43b202",
   "metadata": {},
   "outputs": [],
   "source": [
    "#在终端/命令行提示符中，依次输入如下指令，配置用于运行本章代码的编程环境。\n",
    "\n",
    "#0）安装JRE：https://www.java.com/en/download/\n",
    "\n",
    "#1) 创建虚拟环境python_spark，并使用Python 3.11解释器：conda create -n python_spark python=3.11\n",
    "\n",
    "#2) 切换到虚拟环境python_spark：conda activate python_spark\n",
    "\n",
    "#3) 在虚拟环境python_spark中，安装Jupyter Notebook：conda install notebook\n",
    "\n",
    "#4) 在当前虚拟环境python_spark中，启动Jupyter Notebook：jupyter notebook"
   ]
  },
  {
   "cell_type": "code",
   "execution_count": 3,
   "id": "dbf353b1",
   "metadata": {},
   "outputs": [
    {
     "name": "stdout",
     "output_type": "stream",
     "text": [
      "Collecting package metadata (current_repodata.json): done\n",
      "Solving environment: done\n",
      "\n",
      "# All requested packages already installed.\n",
      "\n"
     ]
    }
   ],
   "source": [
    "#查验当前虚拟环境是否已经安装了指定版本的PySpark编程库。\n",
    "!conda install pyspark==3.4.1"
   ]
  },
  {
   "cell_type": "code",
   "execution_count": 4,
   "id": "b1bbcf30",
   "metadata": {},
   "outputs": [
    {
     "data": {
      "text/plain": [
       "'3.4.1'"
      ]
     },
     "execution_count": 4,
     "metadata": {},
     "output_type": "execute_result"
    }
   ],
   "source": [
    "import pyspark\n",
    "\n",
    "pyspark.__version__"
   ]
  },
  {
   "cell_type": "code",
   "execution_count": 5,
   "id": "6e7dc5a8",
   "metadata": {},
   "outputs": [
    {
     "name": "stdout",
     "output_type": "stream",
     "text": [
      "Collecting package metadata (current_repodata.json): done\n",
      "Solving environment: done\n",
      "\n",
      "# All requested packages already installed.\n",
      "\n"
     ]
    }
   ],
   "source": [
    "#查验当前虚拟环境是否已经安装了指定版本的Pandas编程库。\n",
    "!conda install pandas==2.0.3"
   ]
  },
  {
   "cell_type": "code",
   "execution_count": 6,
   "id": "95f0925d",
   "metadata": {},
   "outputs": [
    {
     "data": {
      "text/plain": [
       "'2.0.3'"
      ]
     },
     "execution_count": 6,
     "metadata": {},
     "output_type": "execute_result"
    }
   ],
   "source": [
    "import pandas as pd\n",
    "\n",
    "pd.__version__"
   ]
  }
 ],
 "metadata": {
  "kernelspec": {
   "display_name": "Python 3 (ipykernel)",
   "language": "python",
   "name": "python3"
  },
  "language_info": {
   "codemirror_mode": {
    "name": "ipython",
    "version": 3
   },
   "file_extension": ".py",
   "mimetype": "text/x-python",
   "name": "python",
   "nbconvert_exporter": "python",
   "pygments_lexer": "ipython3",
   "version": "3.11.5"
  }
 },
 "nbformat": 4,
 "nbformat_minor": 5
}
