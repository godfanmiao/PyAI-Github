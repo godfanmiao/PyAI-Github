{
 "cells": [
  {
   "cell_type": "code",
   "execution_count": 1,
   "id": "39074a30",
   "metadata": {},
   "outputs": [],
   "source": [
    "##################################################################\n",
    "#           《Python人工智能编程实践（2024年度版）》开源代码\n",
    "#-----------------------------------------------------------------\n",
    "#            @章节号：7.3.1.3（词向量特征）             \n",
    "#            @作者：范淼、徐晟桐 \n",
    "#            @购书链接：暂无\n",
    "#            @电子邮箱：fm12@tsinghua.org.cn             \n",
    "#            @官方交流QQ群号：561500762                        \n",
    "##################################################################"
   ]
  },
  {
   "cell_type": "code",
   "execution_count": 2,
   "id": "8a9a9e60",
   "metadata": {},
   "outputs": [
    {
     "name": "stderr",
     "output_type": "stream",
     "text": [
      "Setting default log level to \"WARN\".\n",
      "To adjust logging level use sc.setLogLevel(newLevel). For SparkR, use setLogLevel(newLevel).\n",
      "23/08/31 17:32:39 WARN NativeCodeLoader: Unable to load native-hadoop library for your platform... using builtin-java classes where applicable\n"
     ]
    },
    {
     "name": "stdout",
     "output_type": "stream",
     "text": [
      "+--------------------+\n",
      "|                 _c1|\n",
      "+--------------------+\n",
      "|According to Gran...|\n",
      "|Technopolis plans...|\n",
      "|The international...|\n",
      "|With the new prod...|\n",
      "|According to the ...|\n",
      "+--------------------+\n",
      "only showing top 5 rows\n",
      "\n"
     ]
    }
   ],
   "source": [
    "from pyspark.sql import SparkSession\n",
    "\n",
    "\n",
    "#创建SparkSession。\n",
    "spark = SparkSession.builder.getOrCreate()\n",
    "\n",
    "#读取文件并存储到DataFrame中。\n",
    "df = spark.read.csv('./datasets/news/news_sentiment.csv', header=False)\n",
    "\n",
    "#选取名称为_c1的列，并展示该列的前5行。\n",
    "df.select(df._c1).show(5)"
   ]
  },
  {
   "cell_type": "code",
   "execution_count": 3,
   "id": "054ac80e",
   "metadata": {},
   "outputs": [
    {
     "name": "stdout",
     "output_type": "stream",
     "text": [
      "+--------------------+\n",
      "|               words|\n",
      "+--------------------+\n",
      "|[According, to, G...|\n",
      "|[Technopolis, pla...|\n",
      "|[The, internation...|\n",
      "|[With, the, new, ...|\n",
      "|[According, to, t...|\n",
      "+--------------------+\n",
      "only showing top 5 rows\n",
      "\n"
     ]
    }
   ],
   "source": [
    "import pyspark.sql.functions as func\n",
    "\n",
    "\n",
    "#选取名称为_c1的列，将该列的数据文本进行分词，并修改该列的名称为words。\n",
    "df = df.select(func.split(df._c1, ' ').alias('words'))\n",
    "\n",
    "df.show(5)"
   ]
  },
  {
   "cell_type": "code",
   "execution_count": 4,
   "id": "23a7ec9d",
   "metadata": {
    "scrolled": true
   },
   "outputs": [
    {
     "name": "stderr",
     "output_type": "stream",
     "text": [
      "23/08/31 17:32:48 WARN InstanceBuilder: Failed to load implementation from:dev.ludovic.netlib.blas.JNIBLAS\n"
     ]
    },
    {
     "name": "stdout",
     "output_type": "stream",
     "text": [
      "[0.07778691798448563,-0.14356986802071334]\n",
      "[0.1736533311946738,-0.0956055041432621]\n",
      "[0.13836957677267492,-0.10836230167963852]\n",
      "[0.08843572144255493,-0.11472625375697107]\n",
      "[0.366954237097738,0.04000630570155364]\n"
     ]
    }
   ],
   "source": [
    "from pyspark.ml.feature import Word2Vec\n",
    "\n",
    "\n",
    "#初始化词向量特征的抽取模型。\n",
    "word2Vec = Word2Vec(vectorSize=2, minCount=0, inputCol=\"words\", outputCol=\"embedding\")\n",
    "\n",
    "model = word2Vec.fit(df)\n",
    "\n",
    "result = model.transform(df)\n",
    "\n",
    "#展示前5行文本的词向量特征。\n",
    "for item in result.collect()[:5]:\n",
    "    print(item['embedding'])"
   ]
  }
 ],
 "metadata": {
  "kernelspec": {
   "display_name": "Python 3 (ipykernel)",
   "language": "python",
   "name": "python3"
  },
  "language_info": {
   "codemirror_mode": {
    "name": "ipython",
    "version": 3
   },
   "file_extension": ".py",
   "mimetype": "text/x-python",
   "name": "python",
   "nbconvert_exporter": "python",
   "pygments_lexer": "ipython3",
   "version": "3.11.5"
  }
 },
 "nbformat": 4,
 "nbformat_minor": 5
}
