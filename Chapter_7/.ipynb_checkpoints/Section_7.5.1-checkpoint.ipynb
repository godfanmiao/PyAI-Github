{
 "cells": [
  {
   "cell_type": "code",
   "execution_count": 1,
   "id": "c96af709",
   "metadata": {},
   "outputs": [],
   "source": [
    "##################################################################\n",
    "#           《Python人工智能编程实践（2024年度版）》开源代码\n",
    "#-----------------------------------------------------------------\n",
    "#            @章节号：7.5.1（超参数寻优：留一验证）                                       \n",
    "#            @作者：范淼、徐晟桐 \n",
    "#            @购书链接：暂无\n",
    "#            @电子邮箱：fm12@tsinghua.org.cn             \n",
    "#            @官方交流QQ群号：561500762                        \n",
    "##################################################################"
   ]
  },
  {
   "cell_type": "code",
   "execution_count": 2,
   "id": "a6b84eb1",
   "metadata": {},
   "outputs": [
    {
     "name": "stderr",
     "output_type": "stream",
     "text": [
      "Setting default log level to \"WARN\".\n",
      "To adjust logging level use sc.setLogLevel(newLevel). For SparkR, use setLogLevel(newLevel).\n",
      "23/08/31 17:23:14 WARN NativeCodeLoader: Unable to load native-hadoop library for your platform... using builtin-java classes where applicable\n",
      "23/08/31 17:23:19 WARN Utils: Service 'SparkUI' could not bind on port 4040. Attempting port 4041.\n"
     ]
    }
   ],
   "source": [
    "from pyspark.sql import SparkSession\n",
    "import pyspark.sql.functions as func\n",
    "\n",
    "\n",
    "#创建SparkSession。\n",
    "spark = SparkSession.builder.getOrCreate()\n",
    "\n",
    "#读取文件并存储到DataFrame中。\n",
    "df = spark.read.csv('./datasets/news/news_sentiment.csv', header=False)\n",
    "\n",
    "#指定标签列，并对文本特征列的数据进行分词处理。\n",
    "df = df.select(df._c0.alias('label'), func.split(df._c1, ' ').alias('words'))\n",
    "\n",
    "#分割出训练和测试集。\n",
    "(train_df, test_df) = df.randomSplit([0.8, 0.2], seed=911120)"
   ]
  },
  {
   "cell_type": "code",
   "execution_count": 3,
   "id": "c4b0c8ee",
   "metadata": {},
   "outputs": [
    {
     "name": "stderr",
     "output_type": "stream",
     "text": [
      "23/08/31 17:23:25 WARN InstanceBuilder: Failed to load implementation from:dev.ludovic.netlib.blas.JNIBLAS\n"
     ]
    },
    {
     "name": "stdout",
     "output_type": "stream",
     "text": [
      "CodeCache: size=131072Kb used=41016Kb max_used=41018Kb free=90055Kb\n",
      " bounds [0x00000001040f8000, 0x0000000106948000, 0x000000010c0f8000]\n",
      " total_blobs=15205 nmethods=13998 adapters=1117\n",
      " compilation: disabled (not enough contiguous free space left)\n"
     ]
    },
    {
     "name": "stderr",
     "output_type": "stream",
     "text": [
      "Java HotSpot(TM) 64-Bit Server VM warning: CodeCache is full. Compiler has been disabled.\n",
      "Java HotSpot(TM) 64-Bit Server VM warning: Try increasing the code cache size using -XX:ReservedCodeCacheSize=\n"
     ]
    }
   ],
   "source": [
    "from pyspark.ml.feature import CountVectorizer, StringIndexer, StandardScaler\n",
    "from pyspark.ml.classification import LogisticRegression\n",
    "from pyspark.ml import Pipeline\n",
    "from pyspark.ml.tuning import ParamGridBuilder, TrainValidationSplit\n",
    "from pyspark.ml.evaluation import MulticlassClassificationEvaluator\n",
    "\n",
    "\n",
    "#对标签数据进行数字化编码。\n",
    "labelIndexer = StringIndexer(inputCol=\"label\", outputCol=\"idx_label\")\n",
    "\n",
    "#对文本数据进行词频特征抽取。\n",
    "cv = CountVectorizer(inputCol=\"words\", outputCol=\"features\", vocabSize=500)\n",
    "\n",
    "#对词频特征进行标准化转换。\n",
    "scaler = StandardScaler(inputCol='features', outputCol='scaled_features')\n",
    "\n",
    "#使用逻辑斯蒂回归分类器。\n",
    "classifier = LogisticRegression(labelCol=\"idx_label\", featuresCol=\"scaled_features\")\n",
    "\n",
    "#使用Pipeline，构建标签编码、特征抽取、特征转换，以及模型分类的执行流程。\n",
    "pipeline = Pipeline(stages=[labelIndexer, cv, scaler, classifier])\n",
    "\n",
    "#构建要尝试的超参数集合。\n",
    "paramGrid = ParamGridBuilder()\\\n",
    "    .addGrid(classifier.regParam, [1.0, 0.1, 0.01])\\\n",
    "    .addGrid(classifier.fitIntercept, [False, True])\\\n",
    "    .addGrid(classifier.elasticNetParam, [0.0, 0.2, 0.5, 0.8, 1.0])\\\n",
    "    .build()\n",
    "\n",
    "#构建评估器。\n",
    "evaluator = MulticlassClassificationEvaluator(labelCol=\"idx_label\", predictionCol=\"prediction\", metricName=\"accuracy\")\n",
    "\n",
    "#采用留一验证的方式进行超参数寻优。\n",
    "tvs = TrainValidationSplit(estimator=pipeline,\n",
    "                           estimatorParamMaps=paramGrid,\n",
    "                           evaluator=evaluator,\n",
    "                           trainRatio=0.8)\n",
    "\n",
    "model = tvs.fit(train_df)\n",
    "\n",
    "predictions = model.transform(test_df)"
   ]
  },
  {
   "cell_type": "code",
   "execution_count": 4,
   "id": "bf205f72",
   "metadata": {
    "scrolled": true
   },
   "outputs": [
    {
     "name": "stdout",
     "output_type": "stream",
     "text": [
      "Spark-ML的逻辑斯蒂回归分类器经过留一验证优化后，在news_sentiment测试集上的准确率为：73.83%。\n"
     ]
    }
   ],
   "source": [
    "accuracy = evaluator.evaluate(predictions)\n",
    "\n",
    "#评估分类器的准确率。\n",
    "print ('Spark-ML的逻辑斯蒂回归分类器经过留一验证优化后，在news_sentiment测试集上的准确率为：%.2f%%。' %(accuracy * 100))"
   ]
  }
 ],
 "metadata": {
  "kernelspec": {
   "display_name": "Python 3 (ipykernel)",
   "language": "python",
   "name": "python3"
  },
  "language_info": {
   "codemirror_mode": {
    "name": "ipython",
    "version": 3
   },
   "file_extension": ".py",
   "mimetype": "text/x-python",
   "name": "python",
   "nbconvert_exporter": "python",
   "pygments_lexer": "ipython3",
   "version": "3.11.5"
  }
 },
 "nbformat": 4,
 "nbformat_minor": 5
}
