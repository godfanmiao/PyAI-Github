{
 "cells": [
  {
   "cell_type": "code",
   "execution_count": 1,
   "id": "62de0cc0",
   "metadata": {},
   "outputs": [],
   "source": [
    "##################################################################\n",
    "#           《Python人工智能编程实践（2024年度版）》开源代码\n",
    "#-----------------------------------------------------------------\n",
    "#            @章节号：7.4.2.3（分布式随机森林回归器）                                 \n",
    "#            @作者：范淼、徐晟桐 \n",
    "#            @购书链接：暂无\n",
    "#            @电子邮箱：fm12@tsinghua.org.cn             \n",
    "#            @官方交流QQ群号：561500762                        \n",
    "##################################################################"
   ]
  },
  {
   "cell_type": "code",
   "execution_count": 2,
   "id": "abe67909",
   "metadata": {},
   "outputs": [
    {
     "name": "stderr",
     "output_type": "stream",
     "text": [
      "Setting default log level to \"WARN\".\n",
      "To adjust logging level use sc.setLogLevel(newLevel). For SparkR, use setLogLevel(newLevel).\n",
      "23/08/31 17:26:36 WARN NativeCodeLoader: Unable to load native-hadoop library for your platform... using builtin-java classes where applicable\n",
      "23/08/31 17:26:41 WARN Utils: Service 'SparkUI' could not bind on port 4040. Attempting port 4041.\n",
      "23/08/31 17:26:41 WARN Utils: Service 'SparkUI' could not bind on port 4041. Attempting port 4042.\n"
     ]
    }
   ],
   "source": [
    "from pyspark.sql import SparkSession\n",
    "import pyspark.sql.functions as func\n",
    "\n",
    "\n",
    "#创建SparkSession。\n",
    "spark = SparkSession.builder.getOrCreate()\n",
    "\n",
    "#读取文件并存储到DataFrame中。\n",
    "df = spark.read.csv('./datasets/bike_rental/bike_rental.csv', header=True)"
   ]
  },
  {
   "cell_type": "code",
   "execution_count": 3,
   "id": "9f7c4be5",
   "metadata": {},
   "outputs": [],
   "source": [
    "#选择数据列。\n",
    "df = df.select([c for c in df.columns if c not in ['instant','dteday']])"
   ]
  },
  {
   "cell_type": "code",
   "execution_count": 4,
   "id": "a6bf3d45",
   "metadata": {},
   "outputs": [],
   "source": [
    "from pyspark.sql.functions import col\n",
    "\n",
    "\n",
    "cate_cols = ['season', 'yr', 'mnth', 'hr', 'holiday', 'weekday', 'workingday', 'weathersit']\n",
    "num_cols = ['temp', 'atemp', 'hum', 'windspeed', 'registered']\n",
    "\n",
    "#类别型数据采用整数编码。\n",
    "for column in cate_cols:\n",
    "    df = df.withColumn(column, col(column).cast('int'))\n",
    "    \n",
    "#数值型数据采用浮点数编码。\n",
    "for column in num_cols:\n",
    "    df = df.withColumn(column, col(column).cast('float'))\n",
    "\n",
    "df = df.withColumn('cnt', col('cnt').cast('float'))"
   ]
  },
  {
   "cell_type": "code",
   "execution_count": 5,
   "id": "4277f43d",
   "metadata": {},
   "outputs": [],
   "source": [
    "#分割出训练和测试集。\n",
    "(train_df, test_df) = df.randomSplit([0.8, 0.2], seed=911120)"
   ]
  },
  {
   "cell_type": "code",
   "execution_count": 6,
   "id": "74ef9317",
   "metadata": {},
   "outputs": [
    {
     "name": "stderr",
     "output_type": "stream",
     "text": [
      "23/08/31 17:26:44 WARN package: Truncated the string representation of a plan since it was too large. This behavior can be adjusted by setting 'spark.sql.debug.maxToStringFields'.\n"
     ]
    }
   ],
   "source": [
    "from pyspark.ml.feature import OneHotEncoder, VectorAssembler, StandardScaler\n",
    "from pyspark.ml.regression import RandomForestRegressor\n",
    "from pyspark.ml import Pipeline\n",
    "\n",
    "\n",
    "enc_cols = [c+'_c' for c in cate_cols]\n",
    "\n",
    "ohe = OneHotEncoder(inputCols= cate_cols, outputCols=enc_cols)\n",
    "\n",
    "va = VectorAssembler(inputCols = num_cols+enc_cols, outputCol= 'features')\n",
    "\n",
    "scaler = StandardScaler(inputCol='features', outputCol='scaled_features')\n",
    "\n",
    "regressor = RandomForestRegressor(featuresCol='scaled_features', labelCol='cnt')\n",
    "\n",
    "pipeline = Pipeline(stages=[ohe, va, scaler, regressor])\n",
    "\n",
    "model = pipeline.fit(train_df)\n",
    "\n",
    "predictions = model.transform(test_df)"
   ]
  },
  {
   "cell_type": "code",
   "execution_count": 7,
   "id": "5d4e4d3a",
   "metadata": {},
   "outputs": [
    {
     "name": "stdout",
     "output_type": "stream",
     "text": [
      "Spark-ML的分布式随机森林回归器在bike_rental测试集上的均方根误差为：55.66。\n"
     ]
    }
   ],
   "source": [
    "from pyspark.ml.evaluation import RegressionEvaluator\n",
    "\n",
    "\n",
    "evaluator = RegressionEvaluator(labelCol=\"cnt\", predictionCol=\"prediction\", metricName=\"rmse\")\n",
    "\n",
    "rmse = evaluator.evaluate(predictions)\n",
    "\n",
    "#评估回归器的均方根误差。\n",
    "print ('Spark-ML的分布式随机森林回归器在bike_rental测试集上的均方根误差为：%.2f。' %(rmse))"
   ]
  }
 ],
 "metadata": {
  "kernelspec": {
   "display_name": "Python 3 (ipykernel)",
   "language": "python",
   "name": "python3"
  },
  "language_info": {
   "codemirror_mode": {
    "name": "ipython",
    "version": 3
   },
   "file_extension": ".py",
   "mimetype": "text/x-python",
   "name": "python",
   "nbconvert_exporter": "python",
   "pygments_lexer": "ipython3",
   "version": "3.11.5"
  }
 },
 "nbformat": 4,
 "nbformat_minor": 5
}
