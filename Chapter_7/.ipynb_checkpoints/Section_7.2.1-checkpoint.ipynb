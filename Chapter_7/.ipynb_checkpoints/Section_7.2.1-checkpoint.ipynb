{
 "cells": [
  {
   "cell_type": "code",
   "execution_count": 1,
   "id": "8b54cf38",
   "metadata": {},
   "outputs": [],
   "source": [
    "##################################################################\n",
    "#           《Python人工智能编程实践（2024年度版）》开源代码\n",
    "#-----------------------------------------------------------------\n",
    "#            @章节号：7.2.1（RDD）                           \n",
    "#            @作者：范淼、徐晟桐 \n",
    "#            @购书链接：暂无\n",
    "#            @电子邮箱：fm12@tsinghua.org.cn             \n",
    "#            @官方交流QQ群号：561500762                        \n",
    "##################################################################"
   ]
  },
  {
   "cell_type": "code",
   "execution_count": 2,
   "id": "b1bbcf30",
   "metadata": {},
   "outputs": [
    {
     "name": "stderr",
     "output_type": "stream",
     "text": [
      "Setting default log level to \"WARN\".\n",
      "To adjust logging level use sc.setLogLevel(newLevel). For SparkR, use setLogLevel(newLevel).\n",
      "23/08/31 14:40:17 WARN NativeCodeLoader: Unable to load native-hadoop library for your platform... using builtin-java classes where applicable\n"
     ]
    }
   ],
   "source": [
    "from pyspark import SparkContext\n",
    "\n",
    "\n",
    "#创建SparkContext。\n",
    "sc = SparkContext()"
   ]
  },
  {
   "cell_type": "code",
   "execution_count": 3,
   "id": "bff73937",
   "metadata": {},
   "outputs": [],
   "source": [
    "#读取文件并存储到RDD中。\n",
    "rdd = sc.textFile('./datasets/news/news_sentiment.csv')"
   ]
  },
  {
   "cell_type": "code",
   "execution_count": 4,
   "id": "bc841eb4",
   "metadata": {
    "scrolled": true
   },
   "outputs": [
    {
     "name": "stderr",
     "output_type": "stream",
     "text": [
      "\r",
      "[Stage 0:>                                                          (0 + 2) / 2]\r",
      "\r",
      "                                                                                \r"
     ]
    },
    {
     "data": {
      "text/plain": [
       "4846"
      ]
     },
     "execution_count": 4,
     "metadata": {},
     "output_type": "execute_result"
    }
   ],
   "source": [
    "#分布式统计文件的行数。\n",
    "rdd.count()"
   ]
  },
  {
   "cell_type": "code",
   "execution_count": 5,
   "id": "3372128a",
   "metadata": {},
   "outputs": [
    {
     "data": {
      "text/plain": [
       "['neutral,\"According to Gran , the company has no plans to move all production to Russia , although that is where the company is growing .\"',\n",
       " 'neutral,\"Technopolis plans to develop in stages an area of no less than 100,000 square meters in order to host companies working in computer technologies and telecommunications , the statement said .\"']"
      ]
     },
     "execution_count": 5,
     "metadata": {},
     "output_type": "execute_result"
    }
   ],
   "source": [
    "#查看前2行原始文件内容。\n",
    "rdd.take(2)"
   ]
  },
  {
   "cell_type": "code",
   "execution_count": 6,
   "id": "c61edc2c",
   "metadata": {},
   "outputs": [
    {
     "data": {
      "text/plain": [
       "[('neutral', 2879), ('negative', 604), ('positive', 1363)]"
      ]
     },
     "execution_count": 6,
     "metadata": {},
     "output_type": "execute_result"
    }
   ],
   "source": [
    "#用map构建标签的键-值对。\n",
    "labels = rdd.map(lambda line: (line.split(',')[0], 1))\n",
    "\n",
    "#用reduce对相同键的值进行求和。\n",
    "label_counts = labels.reduceByKey(lambda a, b: a + b)\n",
    "\n",
    "#查看标签的分布。\n",
    "label_counts.take(5)"
   ]
  },
  {
   "cell_type": "code",
   "execution_count": 7,
   "id": "79be742f",
   "metadata": {},
   "outputs": [
    {
     "data": {
      "text/plain": [
       "[('the', 3459),\n",
       " ('', 2590),\n",
       " ('.', 2068),\n",
       " ('of', 1908),\n",
       " ('in', 1596),\n",
       " ('to', 1561),\n",
       " ('and', 1144),\n",
       " ('a', 938),\n",
       " ('is', 688),\n",
       " ('for', 686)]"
      ]
     },
     "execution_count": 7,
     "metadata": {},
     "output_type": "execute_result"
    }
   ],
   "source": [
    "def extract_words(line):\n",
    "    \n",
    "    items = list()\n",
    "    line = line.lower()\n",
    "    words = line.split(',')[1]\n",
    "    \n",
    "    for word in words.split(' '):\n",
    "        items.append((word, 1))\n",
    "    \n",
    "    return items\n",
    "    \n",
    "words = rdd.flatMap(extract_words)\n",
    "\n",
    "word_counts = words.reduceByKey(lambda a, b: a + b)\n",
    "\n",
    "#查看词频最高的10个单词。\n",
    "word_counts.sortBy(lambda pair: pair[1], False).collect()[:10]"
   ]
  }
 ],
 "metadata": {
  "kernelspec": {
   "display_name": "Python 3 (ipykernel)",
   "language": "python",
   "name": "python3"
  },
  "language_info": {
   "codemirror_mode": {
    "name": "ipython",
    "version": 3
   },
   "file_extension": ".py",
   "mimetype": "text/x-python",
   "name": "python",
   "nbconvert_exporter": "python",
   "pygments_lexer": "ipython3",
   "version": "3.11.5"
  }
 },
 "nbformat": 4,
 "nbformat_minor": 5
}
