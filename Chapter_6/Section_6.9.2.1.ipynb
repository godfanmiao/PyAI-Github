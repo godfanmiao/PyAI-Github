{
 "cells": [
  {
   "cell_type": "code",
   "execution_count": 1,
   "id": "19825317",
   "metadata": {},
   "outputs": [],
   "source": [
    "##################################################################\n",
    "#           《Python人工智能编程实践（2024年度版）》开源代码\n",
    "#-----------------------------------------------------------------\n",
    "#            @章节号：6.9.2.1（批标准化的PyTorch实践）                                                         \n",
    "#            @作者：范淼、徐晟桐 \n",
    "#            @购书链接：暂无\n",
    "#            @电子邮箱：fm12@tsinghua.org.cn             \n",
    "#            @官方交流QQ群号：561500762                        \n",
    "##################################################################"
   ]
  },
  {
   "cell_type": "code",
   "execution_count": 2,
   "id": "3f94a616",
   "metadata": {},
   "outputs": [],
   "source": [
    "from torch import nn, optim\n",
    "\n",
    "\n",
    "#设定超参数。\n",
    "INPUT_SIZE = 784 \n",
    "HIDDEN_SIZE = 256 \n",
    "NUM_CLASSES = 10\n",
    "EPOCHS = 5\n",
    "BATCH_SIZE = 64\n",
    "LEARNING_RATE = 1e-3 \n",
    "\n",
    "\n",
    "class DNN_BN(nn.Module):\n",
    "    '''\n",
    "    自定义带有批标准化功能的全连接神经网络类，继承自nn.Module。\n",
    "    '''\n",
    "    def __init__(self, input_size, hidden_size, num_classes):\n",
    "        \n",
    "        super(DNN_BN, self).__init__()\n",
    "        \n",
    "        self.l1 = nn.Linear(input_size, hidden_size) \n",
    "        \n",
    "        self.relu = nn.ReLU()\n",
    "        \n",
    "        self.bn = nn.BatchNorm1d(hidden_size)\n",
    "        \n",
    "        self.l2 = nn.Linear(hidden_size, num_classes)   \n",
    "    \n",
    "    \n",
    "    def forward(self, input_tensor):\n",
    "        \n",
    "        #添加有256个神经元的隐藏层。\n",
    "        out = self.l1(input_tensor)\n",
    "        \n",
    "        #设定激活函数为ReLU。\n",
    "        out = self.relu(out)\n",
    "        \n",
    "        #添加批标准化层。\n",
    "        out = self.bn(out)\n",
    "        \n",
    "        #添加有10个神经元的输出层。\n",
    "        out = self.l2(out)\n",
    "        \n",
    "        return out \n",
    "    \n",
    "\n",
    "#初始化带有批标准化功能的全连接神经网络。\n",
    "model = DNN_BN(INPUT_SIZE, HIDDEN_SIZE, NUM_CLASSES)\n",
    "\n",
    "#设定神经网络的损失函数。\n",
    "criterion = nn.CrossEntropyLoss()\n",
    "\n",
    "#设定神经网络的优化方法。\n",
    "optimizer = optim.Adam(model.parameters(), lr = LEARNING_RATE) "
   ]
  },
  {
   "cell_type": "code",
   "execution_count": 3,
   "id": "a4d55785",
   "metadata": {},
   "outputs": [],
   "source": [
    "import pandas as pd\n",
    "\n",
    "\n",
    "#使用pandas，读取fashion_mnist的训练和测试数据文件。\n",
    "train_data = pd.read_csv('./datasets/fashion_mnist/fashion_mnist_train.csv')\n",
    "test_data = pd.read_csv('./datasets/fashion_mnist/fashion_mnist_test.csv')\n",
    "\n",
    "#从训练数据中，拆解出训练特征和类别标签。\n",
    "X_train = train_data[train_data.columns[1:]]\n",
    "y_train = train_data['label']\n",
    "\n",
    "#从测试数据中，拆解出测试特征和类别标签。\n",
    "X_test = test_data[train_data.columns[1:]]\n",
    "y_test = test_data['label']"
   ]
  },
  {
   "cell_type": "code",
   "execution_count": 4,
   "id": "a8b466ba",
   "metadata": {},
   "outputs": [],
   "source": [
    "from sklearn.preprocessing import StandardScaler\n",
    "\n",
    "\n",
    "#初始化数据标准化处理器。\n",
    "ss = StandardScaler()\n",
    "\n",
    "#标准化训练数据特征。\n",
    "X_train = ss.fit_transform(X_train)\n",
    "\n",
    "#标准化测试数据特征。\n",
    "X_test = ss.transform(X_test)"
   ]
  },
  {
   "cell_type": "code",
   "execution_count": 5,
   "id": "3c5ce634",
   "metadata": {},
   "outputs": [
    {
     "name": "stdout",
     "output_type": "stream",
     "text": [
      "Epoch [1/5], Step[300/938], Loss: 0.4165\n",
      "Epoch [1/5], Step[600/938], Loss: 0.3338\n",
      "Epoch [1/5], Step[900/938], Loss: 0.5781\n",
      "Epoch [2/5], Step[300/938], Loss: 0.2541\n",
      "Epoch [2/5], Step[600/938], Loss: 0.3474\n",
      "Epoch [2/5], Step[900/938], Loss: 0.3274\n",
      "Epoch [3/5], Step[300/938], Loss: 0.2151\n",
      "Epoch [3/5], Step[600/938], Loss: 0.1749\n",
      "Epoch [3/5], Step[900/938], Loss: 0.3082\n",
      "Epoch [4/5], Step[300/938], Loss: 0.4521\n",
      "Epoch [4/5], Step[600/938], Loss: 0.4434\n",
      "Epoch [4/5], Step[900/938], Loss: 0.1200\n",
      "Epoch [5/5], Step[300/938], Loss: 0.1722\n",
      "Epoch [5/5], Step[600/938], Loss: 0.3450\n",
      "Epoch [5/5], Step[900/938], Loss: 0.3940\n"
     ]
    }
   ],
   "source": [
    "import torch\n",
    "from torch.utils.data import TensorDataset, DataLoader\n",
    "\n",
    "\n",
    "#构建适用于PyTorch模型训练的数据结构。\n",
    "train_tensor = TensorDataset(torch.tensor(X_train.astype('float32')), torch.tensor(y_train.values))\n",
    "\n",
    "#构建适用于PyTorch模型训练的数据读取器。\n",
    "train_loader = DataLoader(dataset = train_tensor, batch_size = BATCH_SIZE, shuffle = True)\n",
    "\n",
    "n_total_steps = len(train_loader)\n",
    "\n",
    "#开启模型训练。\n",
    "model.train()\n",
    "\n",
    "for epoch in range(EPOCHS):\n",
    "    for i, (features, labels) in enumerate(train_loader):  \n",
    "        outputs = model(features)\n",
    "        loss = criterion(outputs, labels)\n",
    "        \n",
    "        optimizer.zero_grad()\n",
    "        loss.backward()\n",
    "        optimizer.step() \n",
    "        \n",
    "        if (i+1) % 300 == 0:\n",
    "             print (f'Epoch [{epoch+1}/{EPOCHS}], Step[{i+1}/{n_total_steps}], Loss: {loss.item():.4f}') "
   ]
  },
  {
   "cell_type": "code",
   "execution_count": 6,
   "id": "3409ec0e",
   "metadata": {
    "scrolled": true
   },
   "outputs": [
    {
     "name": "stdout",
     "output_type": "stream",
     "text": [
      "带有批标准化功能的全连接神经网络（PyTorch版本）在fashion_mnist测试集上的准确率为: 89.12%。\n"
     ]
    }
   ],
   "source": [
    "#构建适用于PyTorch模型测试的数据结构。\n",
    "test_tensor = TensorDataset(torch.tensor(X_test.astype('float32')), torch.tensor(y_test.values))\n",
    "\n",
    "#构建适用于PyTorch模型测试的数据读取器。\n",
    "test_loader = DataLoader(dataset = test_tensor, batch_size = BATCH_SIZE, shuffle = False)\n",
    "\n",
    "#开启模型测试。\n",
    "model.eval()\n",
    "\n",
    "n_correct = 0\n",
    "n_samples = 0\n",
    "\n",
    "for features, labels in test_loader:\n",
    "    outputs = model(features)\n",
    "    _, predictions = torch.max(outputs.data, 1)\n",
    "    \n",
    "    n_samples += labels.size(0)\n",
    "    n_correct += (predictions == labels).sum().item() \n",
    "\n",
    "acc = 100.0 * n_correct / n_samples\n",
    "\n",
    "print('带有批标准化功能的全连接神经网络（PyTorch版本）在fashion_mnist测试集上的准确率为: %.2f%%。' %acc) "
   ]
  }
 ],
 "metadata": {
  "kernelspec": {
   "display_name": "Python 3 (ipykernel)",
   "language": "python",
   "name": "python3"
  },
  "language_info": {
   "codemirror_mode": {
    "name": "ipython",
    "version": 3
   },
   "file_extension": ".py",
   "mimetype": "text/x-python",
   "name": "python",
   "nbconvert_exporter": "python",
   "pygments_lexer": "ipython3",
   "version": "3.11.5"
  }
 },
 "nbformat": 4,
 "nbformat_minor": 5
}
