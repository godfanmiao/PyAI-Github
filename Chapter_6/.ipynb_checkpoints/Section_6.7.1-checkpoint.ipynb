{
 "cells": [
  {
   "cell_type": "code",
   "execution_count": 1,
   "id": "3f3d69d1",
   "metadata": {},
   "outputs": [],
   "source": [
    "##################################################################\n",
    "#           《Python人工智能编程实践（2024年度版）》开源代码\n",
    "#-----------------------------------------------------------------\n",
    "#            @章节号：6.7.1（自动编码器的PyTorch实践）                                         \n",
    "#            @作者：范淼、徐晟桐 \n",
    "#            @购书链接：暂无\n",
    "#            @电子邮箱：fm12@tsinghua.org.cn             \n",
    "#            @官方交流QQ群号：561500762                        \n",
    "##################################################################"
   ]
  },
  {
   "cell_type": "code",
   "execution_count": 2,
   "id": "3c5ce634",
   "metadata": {},
   "outputs": [],
   "source": [
    "from torch import nn, optim\n",
    "\n",
    "\n",
    "#设定超参数。\n",
    "INPUT_SIZE = 784 \n",
    "HIDDEN_SIZE = 256\n",
    "EPOCHS = 5\n",
    "BATCH_SIZE = 64\n",
    "LEARNING_RATE = 1e-3 \n",
    "\n",
    "\n",
    "class AutoEncoder(nn.Module):\n",
    "    '''\n",
    "    自定义自动编码器类，继承自nn.Module。\n",
    "    '''\n",
    "    def __init__(self, input_size, hidden_size):\n",
    "        \n",
    "        super(AutoEncoder, self).__init__()\n",
    "        \n",
    "        self.l1 = nn.Linear(input_size, hidden_size) \n",
    "        \n",
    "        self.relu = nn.ReLU()\n",
    "        \n",
    "        self.l2 = nn.Linear(hidden_size, input_size)  \n",
    "        \n",
    "        \n",
    "    def forward(self, input_tensor):\n",
    "        \n",
    "        out = self.l1(input_tensor)\n",
    "        \n",
    "        out = self.relu(out)\n",
    "        \n",
    "        out = self.l2(out)\n",
    "        \n",
    "        return out \n",
    "\n",
    "\n",
    "#初始化自动编码器。\n",
    "model = AutoEncoder(INPUT_SIZE, HIDDEN_SIZE)\n",
    "\n",
    "#设定神经网络的损失函数。\n",
    "criterion = nn.MSELoss()\n",
    "\n",
    "#设定神经网络的优化方法。\n",
    "optimizer = optim.Adam(model.parameters(), lr = LEARNING_RATE) "
   ]
  },
  {
   "cell_type": "code",
   "execution_count": 3,
   "id": "fb6a2a25",
   "metadata": {},
   "outputs": [],
   "source": [
    "import pandas as pd\n",
    "\n",
    "\n",
    "#使用pandas，读取fashion_mnist的训练和测试数据文件。\n",
    "train_data = pd.read_csv('../datasets/fashion_mnist/fashion_mnist_train.csv')\n",
    "test_data = pd.read_csv('../datasets/fashion_mnist/fashion_mnist_test.csv')\n",
    "\n",
    "#从训练数据中，拆解出训练特征和类别标签。\n",
    "X_train = train_data[train_data.columns[1:]]\n",
    "\n",
    "#从测试数据中，拆解出测试特征和类别标签。\n",
    "X_test = test_data[train_data.columns[1:]]"
   ]
  },
  {
   "cell_type": "code",
   "execution_count": 4,
   "id": "0d1c610a",
   "metadata": {},
   "outputs": [],
   "source": [
    "from sklearn.preprocessing import StandardScaler\n",
    "\n",
    "\n",
    "#初始化数据标准化处理器。\n",
    "ss = StandardScaler()\n",
    "\n",
    "#标准化训练数据特征。\n",
    "X_train = ss.fit_transform(X_train)\n",
    "\n",
    "#标准化测试数据特征。\n",
    "X_test = ss.transform(X_test)"
   ]
  },
  {
   "cell_type": "code",
   "execution_count": 5,
   "id": "5b4c47cf",
   "metadata": {},
   "outputs": [
    {
     "name": "stdout",
     "output_type": "stream",
     "text": [
      "Epoch [1/5], Step[300/938], Loss: 0.1619\n",
      "Epoch [1/5], Step[600/938], Loss: 0.1373\n",
      "Epoch [1/5], Step[900/938], Loss: 0.1125\n",
      "Epoch [2/5], Step[300/938], Loss: 0.0840\n",
      "Epoch [2/5], Step[600/938], Loss: 0.1153\n",
      "Epoch [2/5], Step[900/938], Loss: 0.0804\n",
      "Epoch [3/5], Step[300/938], Loss: 0.0904\n",
      "Epoch [3/5], Step[600/938], Loss: 0.0836\n",
      "Epoch [3/5], Step[900/938], Loss: 0.0760\n",
      "Epoch [4/5], Step[300/938], Loss: 0.0781\n",
      "Epoch [4/5], Step[600/938], Loss: 0.0836\n",
      "Epoch [4/5], Step[900/938], Loss: 0.0645\n",
      "Epoch [5/5], Step[300/938], Loss: 0.0839\n",
      "Epoch [5/5], Step[600/938], Loss: 0.0556\n",
      "Epoch [5/5], Step[900/938], Loss: 0.0741\n"
     ]
    }
   ],
   "source": [
    "import torch\n",
    "from torch.utils.data import TensorDataset, DataLoader\n",
    "\n",
    "\n",
    "#构建适用于PyTorch模型训练的数据结构。\n",
    "train_tensor = TensorDataset(torch.tensor(X_train.astype('float32')))\n",
    "\n",
    "#构建适用于PyTorch模型训练的数据读取器。 \n",
    "train_loader = DataLoader(dataset = train_tensor, batch_size = BATCH_SIZE, shuffle = True)\n",
    "\n",
    "n_total_steps = len(train_loader)\n",
    "\n",
    "#开启模型训练。\n",
    "model.train()\n",
    "\n",
    "for epoch in range(EPOCHS):\n",
    "    for i, items in enumerate(train_loader):  \n",
    "        outputs = model(items[0])\n",
    "        loss = criterion(outputs, items[0])\n",
    "        \n",
    "        optimizer.zero_grad()\n",
    "        loss.backward()\n",
    "        optimizer.step()\n",
    "        \n",
    "        if (i+1) % 300 == 0:\n",
    "             print (f'Epoch [{epoch+1}/{EPOCHS}], Step[{i+1}/{n_total_steps}], Loss: {loss.item():.4f}') "
   ]
  },
  {
   "cell_type": "code",
   "execution_count": 6,
   "id": "349b629b",
   "metadata": {},
   "outputs": [
    {
     "data": {
      "image/png": "[encoded data removed]",
      "text/plain": [
       "<Figure size 640x480 with 1 Axes>"
      ]
     },
     "metadata": {},
     "output_type": "display_data"
    }
   ],
   "source": [
    "import matplotlib.pyplot as plt\n",
    "plt.rcParams['figure.dpi'] = 100\n",
    "\n",
    "\n",
    "#展示原始的图片。\n",
    "test_sample = X_test[:1].reshape((28, 28))\n",
    "\n",
    "plt.imshow(test_sample)\n",
    "\n",
    "plt.show()"
   ]
  },
  {
   "cell_type": "code",
   "execution_count": 7,
   "id": "5561d9bf",
   "metadata": {},
   "outputs": [
    {
     "data": {
      "image/png": "[encoded data removed]",
      "text/plain": [
       "<Figure size 640x480 with 1 Axes>"
      ]
     },
     "metadata": {},
     "output_type": "display_data"
    }
   ],
   "source": [
    "#开启模型测试。\n",
    "model.eval()\n",
    "\n",
    "reconstructed_features = model(torch.Tensor(X_test[:1].astype('float32')))\n",
    "\n",
    "reconstructed_sample = reconstructed_features[0].detach().numpy().reshape((28,28))\n",
    "\n",
    "#展示自编码重建的图片。\n",
    "plt.imshow(reconstructed_sample)\n",
    "\n",
    "plt.show()"
   ]
  }
 ],
 "metadata": {
  "kernelspec": {
   "display_name": "Python 3 (ipykernel)",
   "language": "python",
   "name": "python3"
  },
  "language_info": {
   "codemirror_mode": {
    "name": "ipython",
    "version": 3
   },
   "file_extension": ".py",
   "mimetype": "text/x-python",
   "name": "python",
   "nbconvert_exporter": "python",
   "pygments_lexer": "ipython3",
   "version": "3.10.9"
  }
 },
 "nbformat": 4,
 "nbformat_minor": 5
}
