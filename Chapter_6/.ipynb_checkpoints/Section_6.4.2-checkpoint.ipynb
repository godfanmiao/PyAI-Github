{
 "cells": [
  {
   "cell_type": "code",
   "execution_count": 1,
   "id": "cfac03a5",
   "metadata": {},
   "outputs": [],
   "source": [
    "##################################################################\n",
    "#           《Python人工智能编程实践（2024年度版）》开源代码\n",
    "#-----------------------------------------------------------------\n",
    "#            @章节号：6.4.2（残差神经网络的TensorFlow实践）                                          \n",
    "#            @作者：范淼、徐晟桐 \n",
    "#            @购书链接：暂无\n",
    "#            @电子邮箱：fm12@tsinghua.org.cn             \n",
    "#            @官方交流QQ群号：561500762                        \n",
    "##################################################################"
   ]
  },
  {
   "cell_type": "code",
   "execution_count": 2,
   "id": "639847e0",
   "metadata": {},
   "outputs": [
    {
     "name": "stderr",
     "output_type": "stream",
     "text": [
      "2023-03-17 17:37:49.868048: I tensorflow/core/platform/cpu_feature_guard.cc:193] This TensorFlow binary is optimized with oneAPI Deep Neural Network Library (oneDNN) to use the following CPU instructions in performance-critical operations:  SSE4.1 SSE4.2 AVX AVX2 FMA\n",
      "To enable them in other operations, rebuild TensorFlow with the appropriate compiler flags.\n",
      "2023-03-17 17:37:56.020567: I tensorflow/core/platform/cpu_feature_guard.cc:193] This TensorFlow binary is optimized with oneAPI Deep Neural Network Library (oneDNN) to use the following CPU instructions in performance-critical operations:  SSE4.1 SSE4.2 AVX AVX2 FMA\n",
      "To enable them in other operations, rebuild TensorFlow with the appropriate compiler flags.\n"
     ]
    }
   ],
   "source": [
    "from tensorflow.keras import models, layers, losses, optimizers, Model\n",
    "from tensorflow import nn\n",
    "\n",
    "\n",
    "#设置超参数。\n",
    "FILTERS = (32, 64)\n",
    "HIDDEN_SIZE = 256\n",
    "NUM_CLASSES = 10\n",
    "EPOCHS = 5\n",
    "BATCH_SIZE = 64\n",
    "LEARNING_RATE = 1e-3\n",
    "\n",
    "\n",
    "class ResNet(Model):\n",
    "    '''\n",
    "    自定义残差神经网络类，继承自keras.Model。\n",
    "    '''\n",
    "    def __init__(self, filters, hidden_units, num_classes):\n",
    "        \n",
    "        super(ResNet, self).__init__()\n",
    "        \n",
    "        self.conv2a = layers.Conv2D(filters[0], kernel_size=3, padding='same', activation='relu')\n",
    "\n",
    "        self.conv2b = layers.Conv2D(filters[1], kernel_size=3, padding='same')\n",
    "\n",
    "        self.pool = layers.MaxPooling2D(pool_size=2, strides=2)\n",
    "        \n",
    "        self.flat = layers.Flatten()\n",
    "        \n",
    "        self.l1 = layers.Dense(hidden_units, activation='relu')\n",
    "        \n",
    "        self.l2 = layers.Dense(num_classes)\n",
    "\n",
    "        \n",
    "    def call(self, input_tensor):\n",
    "        \n",
    "        out = self.conv2a(input_tensor)\n",
    "\n",
    "        out = self.conv2b(out)\n",
    "\n",
    "        out += input_tensor\n",
    "        \n",
    "        out = nn.relu(out)\n",
    "        \n",
    "        out = self.pool(out)\n",
    "        \n",
    "        out = self.flat(out)\n",
    "        \n",
    "        out = self.l1(out)\n",
    "        \n",
    "        out = self.l2(out)\n",
    "         \n",
    "        return out\n",
    "\n",
    "    \n",
    "#初始化残差神经网络。\n",
    "model = ResNet(FILTERS, HIDDEN_SIZE, NUM_CLASSES)\n",
    "\n",
    "#设定神经网络的损失函数、优化方式，以及评估方法。\n",
    "model.compile(optimizer=optimizers.Adam(LEARNING_RATE),\n",
    "              loss=losses.SparseCategoricalCrossentropy(from_logits=True),\n",
    "              metrics=['accuracy'])"
   ]
  },
  {
   "cell_type": "code",
   "execution_count": 3,
   "id": "fbc98936",
   "metadata": {},
   "outputs": [],
   "source": [
    "import pandas as pd\n",
    "\n",
    "\n",
    "#使用pandas，读取fashion_mnist的训练和测试数据文件。\n",
    "train_data = pd.read_csv('../datasets/fashion_mnist/fashion_mnist_train.csv')\n",
    "test_data = pd.read_csv('../datasets/fashion_mnist/fashion_mnist_test.csv')\n",
    "\n",
    "#从训练数据中，拆解出训练特征和类别标签。\n",
    "X_train = train_data[train_data.columns[1:]]\n",
    "y_train = train_data['label']\n",
    "\n",
    "#从测试数据中，拆解出测试特征和类别标签。\n",
    "X_test = test_data[train_data.columns[1:]]\n",
    "y_test = test_data['label']"
   ]
  },
  {
   "cell_type": "code",
   "execution_count": 4,
   "id": "420972fe",
   "metadata": {},
   "outputs": [],
   "source": [
    "from sklearn.preprocessing import StandardScaler\n",
    "\n",
    "\n",
    "#初始化数据标准化处理器。\n",
    "ss = StandardScaler()\n",
    "\n",
    "#标准化训练数据特征。\n",
    "X_train = ss.fit_transform(X_train)\n",
    "\n",
    "#标准化测试数据特征。\n",
    "X_test = ss.transform(X_test)"
   ]
  },
  {
   "cell_type": "code",
   "execution_count": 5,
   "id": "26866d42",
   "metadata": {},
   "outputs": [
    {
     "name": "stdout",
     "output_type": "stream",
     "text": [
      "Epoch 1/5\n",
      "938/938 [==============================] - 213s 224ms/step - loss: 0.5182 - accuracy: 0.8402\n",
      "Epoch 2/5\n",
      "938/938 [==============================] - 176s 187ms/step - loss: 0.2653 - accuracy: 0.9037\n",
      "Epoch 3/5\n",
      "938/938 [==============================] - 175s 186ms/step - loss: 0.1960 - accuracy: 0.9282\n",
      "Epoch 4/5\n",
      "938/938 [==============================] - 146s 156ms/step - loss: 0.1464 - accuracy: 0.9457\n",
      "Epoch 5/5\n",
      "938/938 [==============================] - 113s 120ms/step - loss: 0.1075 - accuracy: 0.9598\n"
     ]
    },
    {
     "data": {
      "text/plain": [
       "<keras.callbacks.History at 0x7fba4bd74fa0>"
      ]
     },
     "execution_count": 5,
     "metadata": {},
     "output_type": "execute_result"
    }
   ],
   "source": [
    "X_train = X_train.reshape([-1, 28, 28, 1])\n",
    "\n",
    "#使用fashion_mnist的训练集数据训练网络模型。\n",
    "model.fit(X_train, y_train.values, batch_size=BATCH_SIZE, epochs=EPOCHS, verbose=1)"
   ]
  },
  {
   "cell_type": "code",
   "execution_count": 6,
   "id": "ac8f6c27",
   "metadata": {},
   "outputs": [
    {
     "name": "stdout",
     "output_type": "stream",
     "text": [
      "残差神经网络（TensorFlow版本）在fashion_mnist测试集上的准确率为: 92.78%。\n"
     ]
    }
   ],
   "source": [
    "X_test = X_test.reshape([-1, 28, 28, 1])\n",
    "\n",
    "#使用fashion_mnist的测试集数据评估网络模型的效果。\n",
    "result = model.evaluate(X_test, y_test.values, verbose=0)\n",
    "\n",
    "print('残差神经网络（TensorFlow版本）在fashion_mnist测试集上的准确率为: %.2f%%。' %(result[1] * 100))"
   ]
  }
 ],
 "metadata": {
  "kernelspec": {
   "display_name": "Python 3 (ipykernel)",
   "language": "python",
   "name": "python3"
  },
  "language_info": {
   "codemirror_mode": {
    "name": "ipython",
    "version": 3
   },
   "file_extension": ".py",
   "mimetype": "text/x-python",
   "name": "python",
   "nbconvert_exporter": "python",
   "pygments_lexer": "ipython3",
   "version": "3.10.9"
  }
 },
 "nbformat": 4,
 "nbformat_minor": 5
}
