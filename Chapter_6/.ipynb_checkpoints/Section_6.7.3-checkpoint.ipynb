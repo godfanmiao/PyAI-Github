{
 "cells": [
  {
   "cell_type": "code",
   "execution_count": 1,
   "id": "f74879ad",
   "metadata": {},
   "outputs": [],
   "source": [
    "##################################################################\n",
    "#           《Python人工智能编程实践（2024年度版）》开源代码\n",
    "#-----------------------------------------------------------------\n",
    "#            @章节号：6.7.3（自动编码器的PaddlePaddle实践）                                           \n",
    "#            @作者：范淼、徐晟桐 \n",
    "#            @购书链接：暂无\n",
    "#            @电子邮箱：fm12@tsinghua.org.cn             \n",
    "#            @官方交流QQ群号：561500762                        \n",
    "##################################################################"
   ]
  },
  {
   "cell_type": "code",
   "execution_count": 2,
   "id": "3c5ce634",
   "metadata": {},
   "outputs": [],
   "source": [
    "import paddle\n",
    "from paddle import nn, optimizer\n",
    "\n",
    "\n",
    "#设置超参数。\n",
    "INPUT_SIZE = 784 \n",
    "HIDDEN_SIZE = 256\n",
    "EPOCHS = 5\n",
    "BATCH_SIZE = 64\n",
    "LEARNING_RATE = 1e-3 \n",
    "\n",
    "\n",
    "class AutoEncoder(nn.Layer):\n",
    "    '''\n",
    "    自定义自动编码器类，继承自nn.Layer。\n",
    "    '''\n",
    "    def __init__(self, input_size, hidden_size):\n",
    "        \n",
    "        super(AutoEncoder, self).__init__()\n",
    "        \n",
    "        self.l1 = nn.Linear(input_size, hidden_size) \n",
    "        \n",
    "        self.relu = nn.ReLU()\n",
    "        \n",
    "        self.l2 = nn.Linear(hidden_size, input_size)  \n",
    "        \n",
    "        \n",
    "    def forward(self, input_tensor):\n",
    "        \n",
    "        out = self.l1(input_tensor)\n",
    "        \n",
    "        out = self.relu(out)\n",
    "        \n",
    "        out = self.l2(out)\n",
    "        \n",
    "        return out \n",
    "\n",
    "    \n",
    "#初始化自动编码器。\n",
    "paddle_model = AutoEncoder(INPUT_SIZE, HIDDEN_SIZE)\n",
    "\n",
    "model = paddle.Model(paddle_model)\n",
    "\n",
    "#为模型训练做准备，设置优化器，损失函数和评估指标。\n",
    "model.prepare(optimizer=optimizer.Adam(learning_rate=LEARNING_RATE, parameters=model.parameters()),\n",
    "              loss=nn.MSELoss())"
   ]
  },
  {
   "cell_type": "code",
   "execution_count": 3,
   "id": "30e80ef3",
   "metadata": {},
   "outputs": [],
   "source": [
    "import pandas as pd\n",
    "\n",
    "\n",
    "#使用pandas，读取fashion_mnist的训练和测试数据文件。\n",
    "train_data = pd.read_csv('../datasets/fashion_mnist/fashion_mnist_train.csv')\n",
    "test_data = pd.read_csv('../datasets/fashion_mnist/fashion_mnist_test.csv')\n",
    "\n",
    "#从训练数据中，拆解出训练特征和类别标签。\n",
    "X_train = train_data[train_data.columns[1:]]\n",
    "\n",
    "#从测试数据中，拆解出测试特征和类别标签。\n",
    "X_test = test_data[train_data.columns[1:]]"
   ]
  },
  {
   "cell_type": "code",
   "execution_count": 4,
   "id": "0d1c610a",
   "metadata": {},
   "outputs": [],
   "source": [
    "from sklearn.preprocessing import StandardScaler\n",
    "\n",
    "\n",
    "#初始化数据标准化处理器。\n",
    "ss = StandardScaler()\n",
    "\n",
    "#标准化训练数据特征。\n",
    "X_train = ss.fit_transform(X_train)\n",
    "\n",
    "#标准化测试数据特征。\n",
    "X_test = ss.transform(X_test)"
   ]
  },
  {
   "cell_type": "code",
   "execution_count": 5,
   "id": "b3d2546e",
   "metadata": {},
   "outputs": [
    {
     "name": "stdout",
     "output_type": "stream",
     "text": [
      "The loss value printed in the log is the current step, and the metric is the average value of previous steps.\n",
      "Epoch 1/5\n",
      "step 938/938 [==============================] - loss: 0.0991 - 9ms/step          \n",
      "Epoch 2/5\n",
      "step 938/938 [==============================] - loss: 0.0802 - 12ms/step          \n",
      "Epoch 3/5\n",
      "step 938/938 [==============================] - loss: 0.2499 - 12ms/step          \n",
      "Epoch 4/5\n",
      "step 938/938 [==============================] - loss: 0.0711 - 11ms/step          \n",
      "Epoch 5/5\n",
      "step 938/938 [==============================] - loss: 0.0602 - 9ms/step          \n"
     ]
    }
   ],
   "source": [
    "from paddle.io import TensorDataset\n",
    "\n",
    "X_train = paddle.to_tensor(X_train.astype('float32'))\n",
    "\n",
    "#构建适用于PaddlePaddle模型训练的数据集。\n",
    "train_dataset = TensorDataset([X_train, X_train])\n",
    "\n",
    "#启动模型训练，指定训练数据集，设置训练轮次，设置每次数据集计算的批次大小。\n",
    "model.fit(train_dataset, batch_size=BATCH_SIZE, epochs=EPOCHS, verbose=1)"
   ]
  },
  {
   "cell_type": "code",
   "execution_count": 6,
   "id": "27707db9",
   "metadata": {},
   "outputs": [
    {
     "name": "stdout",
     "output_type": "stream",
     "text": [
      "Predict begin...\n",
      "step 1/1 [==============================] - 867us/step\n",
      "Predict samples: 784\n"
     ]
    }
   ],
   "source": [
    "import numpy as np\n",
    "\n",
    "\n",
    "test_sample = X_test[:1].reshape((28, 28))\n",
    "\n",
    "reconstructed_features = model.predict(X_test[:1].astype('float32'))\n",
    "\n",
    "reconstructed_sample = np.array(reconstructed_features[0]).reshape((28, 28))"
   ]
  },
  {
   "cell_type": "code",
   "execution_count": 7,
   "id": "c2508985",
   "metadata": {},
   "outputs": [
    {
     "data": {
      "image/png": "[encoded data removed]",
      "text/plain": [
       "<Figure size 640x480 with 1 Axes>"
      ]
     },
     "metadata": {},
     "output_type": "display_data"
    }
   ],
   "source": [
    "import matplotlib.pyplot as plt\n",
    "\n",
    "\n",
    "plt.rcParams['figure.dpi'] = 100\n",
    "\n",
    "#展示原始的图片。\n",
    "plt.imshow(test_sample)\n",
    "\n",
    "plt.show()"
   ]
  },
  {
   "cell_type": "code",
   "execution_count": 8,
   "id": "f2933cb1",
   "metadata": {},
   "outputs": [
    {
     "data": {
      "image/png": "[encoded data removed]",
      "text/plain": [
       "<Figure size 640x480 with 1 Axes>"
      ]
     },
     "metadata": {},
     "output_type": "display_data"
    }
   ],
   "source": [
    "#展示自编码重建的图片。\n",
    "plt.imshow(reconstructed_sample)\n",
    "\n",
    "plt.show()"
   ]
  }
 ],
 "metadata": {
  "kernelspec": {
   "display_name": "Python 3 (ipykernel)",
   "language": "python",
   "name": "python3"
  },
  "language_info": {
   "codemirror_mode": {
    "name": "ipython",
    "version": 3
   },
   "file_extension": ".py",
   "mimetype": "text/x-python",
   "name": "python",
   "nbconvert_exporter": "python",
   "pygments_lexer": "ipython3",
   "version": "3.10.9"
  }
 },
 "nbformat": 4,
 "nbformat_minor": 5
}
