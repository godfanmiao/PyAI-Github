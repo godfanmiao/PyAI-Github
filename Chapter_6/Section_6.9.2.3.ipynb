{
 "cells": [
  {
   "cell_type": "code",
   "execution_count": 1,
   "id": "c03db916",
   "metadata": {},
   "outputs": [],
   "source": [
    "##################################################################\n",
    "#           《Python人工智能编程实践（2024年度版）》开源代码\n",
    "#-----------------------------------------------------------------\n",
    "#            @章节号：6.9.2.3（批标准化的PaddlePaddle实践）                                                                          \n",
    "#            @作者：范淼、徐晟桐 \n",
    "#            @购书链接：暂无\n",
    "#            @电子邮箱：fm12@tsinghua.org.cn             \n",
    "#            @官方交流QQ群号：561500762                        \n",
    "##################################################################"
   ]
  },
  {
   "cell_type": "code",
   "execution_count": 2,
   "id": "347915ab",
   "metadata": {},
   "outputs": [],
   "source": [
    "import paddle\n",
    "from paddle import nn, optimizer, metric\n",
    "\n",
    "\n",
    "#设定超参数。\n",
    "INPUT_SIZE = 784 \n",
    "HIDDEN_SIZE = 256 \n",
    "NUM_CLASSES = 10\n",
    "EPOCHS = 5\n",
    "BATCH_SIZE = 64\n",
    "LEARNING_RATE = 1e-3\n",
    "\n",
    "\n",
    "class DNN_BN(nn.Layer):\n",
    "    '''\n",
    "    自定义带有批标准化功能的全连接神经网络类，继承自nn.Layer。\n",
    "    '''\n",
    "    def __init__(self, input_size, hidden_size, num_classes):\n",
    "        \n",
    "        super(DNN_BN, self).__init__()\n",
    "        \n",
    "        self.l1 = nn.Linear(input_size, hidden_size) \n",
    "        \n",
    "        self.relu = nn.ReLU()\n",
    "        \n",
    "        self.bn = nn.BatchNorm(hidden_size)\n",
    "        \n",
    "        self.l2 = nn.Linear(hidden_size, num_classes)   \n",
    "    \n",
    "    \n",
    "    def forward(self, input_tensor):\n",
    "        \n",
    "        #添加有256个神经元的隐藏层。\n",
    "        out = self.l1(input_tensor)\n",
    "        \n",
    "        #设定激活函数为ReLU。\n",
    "        out = self.relu(out)\n",
    "        \n",
    "        #添加批标准化层。\n",
    "        out = self.bn(out)\n",
    "        \n",
    "        #添加有10个神经元的输出层。\n",
    "        out = self.l2(out)\n",
    "        \n",
    "        return out \n",
    "\n",
    "    \n",
    "#初始化带有批标准化功能的全连接神经网络。\n",
    "paddle_model = DNN_BN(INPUT_SIZE, HIDDEN_SIZE, NUM_CLASSES)\n",
    "\n",
    "model = paddle.Model(paddle_model)\n",
    "\n",
    "# 为模型训练做准备，设置优化器，损失函数和评估指标。\n",
    "model.prepare(optimizer=optimizer.Adam(learning_rate=LEARNING_RATE, parameters=model.parameters()), \n",
    "              loss=nn.CrossEntropyLoss(),\n",
    "              metrics=metric.Accuracy())"
   ]
  },
  {
   "cell_type": "code",
   "execution_count": 3,
   "id": "3f94a616",
   "metadata": {},
   "outputs": [],
   "source": [
    "import pandas as pd\n",
    "\n",
    "\n",
    "#使用pandas，读取fashion_mnist的训练和测试数据文件。\n",
    "train_data = pd.read_csv('./datasets/fashion_mnist/fashion_mnist_train.csv')\n",
    "test_data = pd.read_csv('./datasets/fashion_mnist/fashion_mnist_test.csv')\n",
    "\n",
    "#从训练数据中，拆解出训练特征和类别标签。\n",
    "X_train = train_data[train_data.columns[1:]]\n",
    "y_train = train_data['label']\n",
    "\n",
    "#从测试数据中，拆解出测试特征和类别标签。\n",
    "X_test = test_data[train_data.columns[1:]]\n",
    "y_test = test_data['label']"
   ]
  },
  {
   "cell_type": "code",
   "execution_count": 4,
   "id": "a8b466ba",
   "metadata": {},
   "outputs": [],
   "source": [
    "from sklearn.preprocessing import StandardScaler\n",
    "\n",
    "\n",
    "#初始化数据标准化处理器。\n",
    "ss = StandardScaler()\n",
    "\n",
    "#标准化训练数据特征。\n",
    "X_train = ss.fit_transform(X_train)\n",
    "\n",
    "#标准化测试数据特征。\n",
    "X_test = ss.transform(X_test)"
   ]
  },
  {
   "cell_type": "code",
   "execution_count": 5,
   "id": "3c5ce634",
   "metadata": {},
   "outputs": [
    {
     "name": "stdout",
     "output_type": "stream",
     "text": [
      "The loss value printed in the log is the current step, and the metric is the average value of previous steps.\n",
      "Epoch 1/5\n",
      "step 938/938 [==============================] - loss: 0.4669 - acc: 0.8397 - 4ms/step          \n",
      "Epoch 2/5\n",
      "step 938/938 [==============================] - loss: 0.2815 - acc: 0.8771 - 4ms/step          \n",
      "Epoch 3/5\n",
      "step 938/938 [==============================] - loss: 0.1872 - acc: 0.8895 - 4ms/step          \n",
      "Epoch 4/5\n",
      "step 938/938 [==============================] - loss: 0.1862 - acc: 0.8966 - 4ms/step          \n",
      "Epoch 5/5\n",
      "step 938/938 [==============================] - loss: 0.1292 - acc: 0.9059 - 3ms/step          \n"
     ]
    }
   ],
   "source": [
    "from paddle.io import TensorDataset\n",
    "\n",
    "\n",
    "X_train = paddle.to_tensor(X_train.astype('float32'))\n",
    "y_train = y_train.values\n",
    "\n",
    "#构建适用于PaddlePaddle模型训练的数据集。\n",
    "train_dataset = TensorDataset([X_train, y_train])\n",
    "\n",
    "# 启动模型训练，指定训练数据集，设置训练轮次，设置每次数据集计算的批次大小。\n",
    "model.fit(train_dataset, epochs=EPOCHS, batch_size=BATCH_SIZE, verbose=1)"
   ]
  },
  {
   "cell_type": "code",
   "execution_count": 6,
   "id": "3409ec0e",
   "metadata": {},
   "outputs": [
    {
     "name": "stdout",
     "output_type": "stream",
     "text": [
      "带有批标准化功能的全连接神经网络（PaddlePaddle版本）在fashion_mnist测试集上的准确率为: 89.10%。\n"
     ]
    }
   ],
   "source": [
    "X_test = paddle.to_tensor(X_test.astype('float32'))\n",
    "y_test = y_test.values\n",
    "\n",
    "#构建适用于PaddlePaddle模型测试的数据集。\n",
    "test_dataset = TensorDataset([X_test, y_test])\n",
    "\n",
    "#启动模型测试，指定测试数据集。\n",
    "result = model.evaluate(test_dataset, verbose=0)\n",
    "\n",
    "print('带有批标准化功能的全连接神经网络（PaddlePaddle版本）在fashion_mnist测试集上的准确率为: %.2f%%。' %(result['acc'] * 100))"
   ]
  }
 ],
 "metadata": {
  "kernelspec": {
   "display_name": "Python 3 (ipykernel)",
   "language": "python",
   "name": "python3"
  },
  "language_info": {
   "codemirror_mode": {
    "name": "ipython",
    "version": 3
   },
   "file_extension": ".py",
   "mimetype": "text/x-python",
   "name": "python",
   "nbconvert_exporter": "python",
   "pygments_lexer": "ipython3",
   "version": "3.11.5"
  }
 },
 "nbformat": 4,
 "nbformat_minor": 5
}
