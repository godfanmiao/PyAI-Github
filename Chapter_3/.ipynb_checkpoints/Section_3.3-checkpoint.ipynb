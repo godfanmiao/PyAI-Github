{
 "cells": [
  {
   "cell_type": "code",
   "execution_count": 1,
   "id": "d875f0b9",
   "metadata": {},
   "outputs": [],
   "source": [
    "##################################################################\n",
    "#           《Python人工智能编程实践（2024年度版）》开源代码\n",
    "#-----------------------------------------------------------------\n",
    "#            @章节号：3.3（Python数据类型）                                 \n",
    "#            @作者：范淼、徐晟桐 \n",
    "#            @购书链接：暂无\n",
    "#            @电子邮箱：fm12@tsinghua.org.cn                             \n",
    "#            @官方交流QQ群号：561500762                        \n",
    "##################################################################"
   ]
  },
  {
   "cell_type": "code",
   "execution_count": 2,
   "id": "829f06a8",
   "metadata": {},
   "outputs": [
    {
     "data": {
      "text/plain": [
       "int"
      ]
     },
     "execution_count": 2,
     "metadata": {},
     "output_type": "execute_result"
    }
   ],
   "source": [
    "type(10) #整型数"
   ]
  },
  {
   "cell_type": "code",
   "execution_count": 3,
   "id": "492e8454",
   "metadata": {},
   "outputs": [
    {
     "data": {
      "text/plain": [
       "float"
      ]
     },
     "execution_count": 3,
     "metadata": {},
     "output_type": "execute_result"
    }
   ],
   "source": [
    "type(0.34) #浮点型数"
   ]
  },
  {
   "cell_type": "code",
   "execution_count": 4,
   "id": "e008933d",
   "metadata": {},
   "outputs": [
    {
     "data": {
      "text/plain": [
       "complex"
      ]
     },
     "execution_count": 4,
     "metadata": {},
     "output_type": "execute_result"
    }
   ],
   "source": [
    "type(1+3j) #复数"
   ]
  },
  {
   "cell_type": "code",
   "execution_count": 5,
   "id": "70643a20",
   "metadata": {},
   "outputs": [
    {
     "data": {
      "text/plain": [
       "bool"
      ]
     },
     "execution_count": 5,
     "metadata": {},
     "output_type": "execute_result"
    }
   ],
   "source": [
    "type(True) #布尔值：真"
   ]
  },
  {
   "cell_type": "code",
   "execution_count": 6,
   "id": "7476de24",
   "metadata": {},
   "outputs": [
    {
     "data": {
      "text/plain": [
       "bool"
      ]
     },
     "execution_count": 6,
     "metadata": {},
     "output_type": "execute_result"
    }
   ],
   "source": [
    "type(False) #布尔值：假"
   ]
  },
  {
   "cell_type": "code",
   "execution_count": 7,
   "id": "0ac86055",
   "metadata": {},
   "outputs": [
    {
     "data": {
      "text/plain": [
       "str"
      ]
     },
     "execution_count": 7,
     "metadata": {},
     "output_type": "execute_result"
    }
   ],
   "source": [
    "type('abc') #用单引号声明的字符串"
   ]
  },
  {
   "cell_type": "code",
   "execution_count": 8,
   "id": "56f99607",
   "metadata": {},
   "outputs": [
    {
     "data": {
      "text/plain": [
       "str"
      ]
     },
     "execution_count": 8,
     "metadata": {},
     "output_type": "execute_result"
    }
   ],
   "source": [
    "type(\"123\") #用双引号声明的字符串"
   ]
  },
  {
   "cell_type": "code",
   "execution_count": 9,
   "id": "b292cb62",
   "metadata": {},
   "outputs": [
    {
     "name": "stdout",
     "output_type": "stream",
     "text": [
      "(10, 0.34, True, 'abc')\n"
     ]
    }
   ],
   "source": [
    "#将一个元组赋值给变量x_tuple\n",
    "x_tuple = (10, 0.34, True, 'abc') \n",
    "\n",
    "print(x_tuple)"
   ]
  },
  {
   "cell_type": "code",
   "execution_count": 10,
   "id": "6f9710e8",
   "metadata": {},
   "outputs": [
    {
     "data": {
      "text/plain": [
       "tuple"
      ]
     },
     "execution_count": 10,
     "metadata": {},
     "output_type": "execute_result"
    }
   ],
   "source": [
    "type(x_tuple) #查验变量x_tuple的数据类型"
   ]
  },
  {
   "cell_type": "code",
   "execution_count": 11,
   "id": "a7ac3f05",
   "metadata": {},
   "outputs": [
    {
     "name": "stdout",
     "output_type": "stream",
     "text": [
      "[10, 0.34, True, 'abc']\n"
     ]
    }
   ],
   "source": [
    "#将一个列表赋值给变量x_list\n",
    "x_list = [10, 0.34, True, 'abc'] \n",
    "\n",
    "print(x_list)"
   ]
  },
  {
   "cell_type": "code",
   "execution_count": 12,
   "id": "9a4b6588",
   "metadata": {},
   "outputs": [
    {
     "data": {
      "text/plain": [
       "list"
      ]
     },
     "execution_count": 12,
     "metadata": {},
     "output_type": "execute_result"
    }
   ],
   "source": [
    "type(x_list) #查验变量x_list的数据类型"
   ]
  },
  {
   "cell_type": "code",
   "execution_count": 13,
   "id": "15ae33d2",
   "metadata": {},
   "outputs": [
    {
     "name": "stdout",
     "output_type": "stream",
     "text": [
      "{0.34, 10, 'a', 'b'}\n"
     ]
    }
   ],
   "source": [
    "#将一个集合赋值给变量x_set\n",
    "x_set = {10, 0.34, 'a', 'a', 'b'} \n",
    "\n",
    "print(x_set)"
   ]
  },
  {
   "cell_type": "code",
   "execution_count": 14,
   "id": "1a25572a",
   "metadata": {},
   "outputs": [
    {
     "data": {
      "text/plain": [
       "set"
      ]
     },
     "execution_count": 14,
     "metadata": {},
     "output_type": "execute_result"
    }
   ],
   "source": [
    "type(x_set) #查验变量x_set的数据类型"
   ]
  },
  {
   "cell_type": "code",
   "execution_count": 15,
   "id": "ce09d526",
   "metadata": {},
   "outputs": [
    {
     "name": "stdout",
     "output_type": "stream",
     "text": [
      "{1: 10, 2: 0.34, 'a': True, 'abc': 'abc'}\n"
     ]
    }
   ],
   "source": [
    "#将一个字典赋值给变量x_dict\n",
    "x_dict = {1:10, 2:0.34, 'a':True, 'abc':'abc'}\n",
    "\n",
    "print(x_dict)"
   ]
  },
  {
   "cell_type": "code",
   "execution_count": 16,
   "id": "9947a2b5",
   "metadata": {},
   "outputs": [
    {
     "data": {
      "text/plain": [
       "dict"
      ]
     },
     "execution_count": 16,
     "metadata": {},
     "output_type": "execute_result"
    }
   ],
   "source": [
    "type(x_dict) #查验变量x_dict的数据类型"
   ]
  }
 ],
 "metadata": {
  "kernelspec": {
   "display_name": "Python 3 (ipykernel)",
   "language": "python",
   "name": "python3"
  },
  "language_info": {
   "codemirror_mode": {
    "name": "ipython",
    "version": 3
   },
   "file_extension": ".py",
   "mimetype": "text/x-python",
   "name": "python",
   "nbconvert_exporter": "python",
   "pygments_lexer": "ipython3",
   "version": "3.11.4"
  },
  "vscode": {
   "interpreter": {
    "hash": "31f2aee4e71d21fbe5cf8b01ff0e069b9275f58929596ceb00d14d90e3e16cd6"
   }
  }
 },
 "nbformat": 4,
 "nbformat_minor": 5
}
