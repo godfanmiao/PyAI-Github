{
 "cells": [
  {
   "cell_type": "code",
   "execution_count": 1,
   "id": "1fc33957",
   "metadata": {},
   "outputs": [],
   "source": [
    "##################################################################\n",
    "#           《Python人工智能编程实践（2024年度版）》开源代码\n",
    "#-----------------------------------------------------------------\n",
    "#            @章节号：3.9（Python编程综合实践）                                       \n",
    "#            @作者：范淼、徐晟桐 \n",
    "#            @购书链接：暂无\n",
    "#            @电子邮箱：fm12@tsinghua.org.cn                             \n",
    "#            @官方交流QQ群号：561500762                        \n",
    "##################################################################"
   ]
  },
  {
   "cell_type": "code",
   "execution_count": 2,
   "id": "045df251",
   "metadata": {},
   "outputs": [],
   "source": [
    "class Student:\n",
    "    count = 0\n",
    "    \n",
    "    def __init__(self, name, score):\n",
    "        self.name = name\n",
    "        \n",
    "        self.__score = score\n",
    "        \n",
    "        if score >= 90.0:\n",
    "            self.grade = 'A'\n",
    "        elif score >= 80.0:\n",
    "            self.grade = 'B'\n",
    "        elif score >= 60.0:\n",
    "            self.grade = 'C'\n",
    "        else:\n",
    "            self.grade = 'D'\n",
    "        \n",
    "        Student.count += 1\n",
    "\n",
    "    \n",
    "    def display_grade(self):\n",
    "        print (\"%s的成绩等级为%s\" %(self.name, self.grade)) "
   ]
  },
  {
   "cell_type": "code",
   "execution_count": 3,
   "id": "5a0401f6",
   "metadata": {},
   "outputs": [
    {
     "name": "stdout",
     "output_type": "stream",
     "text": [
      "范淼的成绩等级为C\n",
      "刘晓龙的成绩等级为B\n",
      "陈蓓的成绩等级为A\n",
      "孙华枭的成绩等级为D\n"
     ]
    }
   ],
   "source": [
    "\"\"\"\n",
    "期末考试，录入多人成绩，展示等级\n",
    "\"\"\"\n",
    "\n",
    "if __name__ == '__main__':\n",
    "    \n",
    "    student_1 = Student('范淼', 70.5)\n",
    "    student_2 = Student('刘晓龙', 81.5)\n",
    "    student_3 = Student('陈蓓', 96)\n",
    "    student_4 = Student('孙华枭', 47.0)\n",
    "    \n",
    "    students = [student_1, student_2, student_3, student_4]\n",
    "    \n",
    "    for student in students:\n",
    "        student.display_grade()"
   ]
  }
 ],
 "metadata": {
  "kernelspec": {
   "display_name": "Python 3 (ipykernel)",
   "language": "python",
   "name": "python3"
  },
  "language_info": {
   "codemirror_mode": {
    "name": "ipython",
    "version": 3
   },
   "file_extension": ".py",
   "mimetype": "text/x-python",
   "name": "python",
   "nbconvert_exporter": "python",
   "pygments_lexer": "ipython3",
   "version": "3.11.4"
  }
 },
 "nbformat": 4,
 "nbformat_minor": 5
}
